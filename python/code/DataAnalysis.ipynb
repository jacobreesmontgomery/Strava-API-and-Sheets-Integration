{
 "cells": [
  {
   "attachments": {},
   "cell_type": "markdown",
   "metadata": {},
   "source": [
    "# STEP ONE: DATA ACQUISITION AND FORMATTING"
   ]
  },
  {
   "cell_type": "code",
   "execution_count": null,
   "metadata": {},
   "outputs": [],
   "source": [
    "# Importing the necessary libraries\n",
    "import pandas as pd\n",
    "import datetime as dt"
   ]
  },
  {
   "cell_type": "code",
   "execution_count": null,
   "metadata": {},
   "outputs": [],
   "source": [
    "# Reading in the CSV file and displaying the first five activities\n",
    "activities_df = pd.read_csv(\"C:/Users/17178/Desktop/GITHUB_PROJECTS/Strava-API-and-Sheets-Integration/python/data/GOONS_ACTIVITIES.csv\", header=0)\n",
    "activities_df.head(5)"
   ]
  },
  {
   "cell_type": "code",
   "execution_count": null,
   "metadata": {},
   "outputs": [],
   "source": [
    "# Converting WKT TYPE to be an int\n",
    "activities_df.loc[activities_df[\"WKT TYPE\"].isna() | activities_df[\"WKT TYPE\"].isnull(), \"WKT TYPE\"] = activities_df[\"WKT TYPE\"].mask(activities_df[\"WKT TYPE\"].isna() | activities_df[\"WKT TYPE\"].isnull(), \"0\")\n",
    "activities_df[\"WKT TYPE\"] = activities_df[\"WKT TYPE\"].astype(\"int\").astype(\"category\")\n",
    "\n",
    "# Converting full date to a sortable format\n",
    "activities_df[\"FULL DATE\"] = activities_df[\"FULL DATE\"].astype(\"string\")\n",
    "activities_df[\"FULL DATE\"] = pd.to_datetime(activities_df[\"FULL DATE\"], yearfirst=False, dayfirst=False)\n",
    "\n",
    "# Converting time to a sortable (24h) format (for new column, \"SORT TIME\")\n",
    "activities_df[\"SORT TIME\"] = pd.to_datetime(activities_df[\"TIME\"], format='%I:%M:%S %p').dt.strftime('%H:%M:%S')\n",
    "\n",
    "# Sorting the dataframe by full date and time in descending order\n",
    "activities_df = activities_df.sort_values(by=[\"FULL DATE\", \"SORT TIME\"], ascending=[False, False]) # Extra precaution (things should be sorted properly as is)"
   ]
  },
  {
   "cell_type": "code",
   "execution_count": null,
   "metadata": {},
   "outputs": [],
   "source": [
    "# Viewing data types of each column\n",
    "activities_df.dtypes"
   ]
  },
  {
   "cell_type": "code",
   "execution_count": null,
   "metadata": {},
   "outputs": [],
   "source": [
    "# Viewing the first five activities\n",
    "activities_df.head(5)"
   ]
  },
  {
   "cell_type": "code",
   "execution_count": null,
   "metadata": {},
   "outputs": [],
   "source": [
    "# TODO: Cleaning up the data (might not be necessary, have to think on this)\n",
    "# Thought: Using the description just doesn't make sense for this machine learning. \n",
    "# It'd be too hard to extract meaning from in a column-interpretable way."
   ]
  }
 ],
 "metadata": {
  "kernelspec": {
   "display_name": "Python 3",
   "language": "python",
   "name": "python3"
  },
  "language_info": {
   "codemirror_mode": {
    "name": "ipython",
    "version": 3
   },
   "file_extension": ".py",
   "mimetype": "text/x-python",
   "name": "python",
   "nbconvert_exporter": "python",
   "pygments_lexer": "ipython3",
   "version": "3.11.2"
  },
  "orig_nbformat": 4
 },
 "nbformat": 4,
 "nbformat_minor": 2
}
